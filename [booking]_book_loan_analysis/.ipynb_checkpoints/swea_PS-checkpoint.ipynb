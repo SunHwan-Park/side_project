{
 "cells": [
  {
   "cell_type": "code",
   "execution_count": 5,
   "metadata": {},
   "outputs": [
    {
     "name": "stdout",
     "output_type": "stream",
     "text": [
      "1 2 3 4 5 6 7 8 9 10 11 12 13 14 15 16 17 18 19 20 21 22 23 24 25 26 \n"
     ]
    }
   ],
   "source": [
    "# 2050\n",
    "\n",
    "alphabets = 'ABCDEFGHIJKLMNOPQRSTUVWXYZ'\n",
    "T = input()\n",
    "answer = ''\n",
    "\n",
    "for alphabet in T:\n",
    "    answer += str(alphabets.index(alphabet)+1)+' '\n",
    "    \n",
    "print(answer)"
   ]
  },
  {
   "cell_type": "code",
   "execution_count": 1,
   "metadata": {},
   "outputs": [
    {
     "name": "stdout",
     "output_type": "stream",
     "text": [
      "5\n",
      "22220228\n",
      "#1 2222/02/28\n",
      "20150002\n",
      "#2 -1\n",
      "01010101\n",
      "#3 0101/01/01\n",
      "20140230\n",
      "#4 -1\n",
      "11111111\n",
      "#5 1111/11/11\n"
     ]
    }
   ],
   "source": [
    "# 2056\n",
    "\n",
    "month_dates = {1:31, 2:28, 3:31, 4:30, 5:31, 6:30, 7:31, 8:31, 9:30, 10:31, 11:30, 12:31}\n",
    "\n",
    "test_size = int(input())\n",
    "\n",
    "for n in range(test_size):\n",
    "    date = input()\n",
    "    if int(date[4:6]) in range(1, 13) and int(date[6:8]) in range(1, month_dates[int(date[4:6])]+1):\n",
    "        print('#{} {}/{}/{}'.format(n+1, date[:4], date[4:6], date[6:8]))\n",
    "    else:\n",
    "        print('#{} -1'.format(n+1))"
   ]
  },
  {
   "cell_type": "code",
   "execution_count": 2,
   "metadata": {},
   "outputs": [
    {
     "name": "stdout",
     "output_type": "stream",
     "text": [
      "6789\n",
      "30\n"
     ]
    }
   ],
   "source": [
    "# 2058\n",
    "\n",
    "num = input()\n",
    "\n",
    "answer = 0\n",
    "\n",
    "for n in num:\n",
    "    answer += int(n)\n",
    "    \n",
    "print(answer)"
   ]
  },
  {
   "cell_type": "code",
   "execution_count": 15,
   "metadata": {},
   "outputs": [
    {
     "name": "stdout",
     "output_type": "stream",
     "text": [
      "199\n",
      "85 72 38 80 69 65 68 96 22 49 67 51 61 63 87 66 24 80 83 71 60 64 52 90 60 49 31 23 99 94 11 25 24 51 15 13 39 67 97 19 76 12 33 99 18 92 35 74 0 95 71 39 33 39 32 37 45 57 71 95 5 71 24 86 8 51 54 74 24 75 70 33 63 29 99 59 94 52 13 35 99 46 57 71 23 17 3 94 48 77 18 83 11 83 25 59 62 2 78 86 7 94 65 80 32 39 84 60 65 72 61 58 84 8 72 12 19 47 49 49 59 71 52 34 22 21 20 92 33 80 39 74 9 28 97 100 93 29 25 4 66 79 81 98 21 91 62 82 4 59 100 34 1 51 80 92 69 77 39 38 97 51 34 35 19 22 1 67 9 90 31 82 11 51 84 78 70 74 42 100 88 53 80 57 62 32 51 48 63 92 46 4 61 31 98 69 52 88 20\n"
     ]
    }
   ],
   "source": [
    "# 2063\n",
    "\n",
    "num_size = int(input())\n",
    "num_list = list(map(int, input().split()))\n",
    "\n",
    "print(sorted(num_list)[int(num_size/2)])"
   ]
  },
  {
   "cell_type": "code",
   "execution_count": 17,
   "metadata": {},
   "outputs": [
    {
     "name": "stdout",
     "output_type": "stream",
     "text": [
      "3\n",
      "3 17 1\n",
      "#1 17\n",
      "22 8 5\n",
      "#2 22\n",
      "6 63 2\n",
      "#3 63\n"
     ]
    }
   ],
   "source": [
    "# 2068\n",
    "\n",
    "num_size = int(input())\n",
    "for i in range(num_size):\n",
    "    num_list = list(map(int, input().split()))\n",
    "    print('#{} {}'.format(i+1, max(num_list)))"
   ]
  },
  {
   "cell_type": "code",
   "execution_count": 18,
   "metadata": {},
   "outputs": [
    {
     "name": "stdout",
     "output_type": "stream",
     "text": [
      "3\n",
      "3 8\n",
      "#1 <\n",
      "7 7\n",
      "#2 =\n",
      "369 123\n",
      "#3 >\n"
     ]
    }
   ],
   "source": [
    "# 2070\n",
    "\n",
    "num_size = int(input())\n",
    "for i in range(num_size):\n",
    "    num_list = list(map(int, input().split()))\n",
    "    if num_list[0] < num_list[1]:\n",
    "        print('#{} <'.format(i+1))\n",
    "    elif num_list[0] > num_list[1]:\n",
    "        print('#{} >'.format(i+1))\n",
    "    else:\n",
    "        print('#{} ='.format(i+1))"
   ]
  },
  {
   "cell_type": "code",
   "execution_count": 20,
   "metadata": {},
   "outputs": [
    {
     "name": "stdout",
     "output_type": "stream",
     "text": [
      "3\n",
      "3 17 1 39 8 41 2 32 99 2\n",
      "#1 24\n",
      "22 8 5 123 7 2 63 7 3 46\n",
      "#2 29\n",
      "6 63 2 3 58 76 21 33 8 1   \n",
      "#3 27\n"
     ]
    }
   ],
   "source": [
    "# 2071\n",
    "\n",
    "num_size = int(input())\n",
    "for i in range(num_size):\n",
    "    num_list = list(map(int, input().split()))\n",
    "    print('#{} {}'.format(i+1, round(sum(num_list)/len(num_list))))"
   ]
  },
  {
   "cell_type": "code",
   "execution_count": 36,
   "metadata": {},
   "outputs": [
    {
     "name": "stdout",
     "output_type": "stream",
     "text": [
      "3\n",
      "3 17 1 39 8 41 2 32 99 2\n",
      "#1 200\n",
      " 17 1 39 8 41 2 32 99 2\n",
      "#2 197\n",
      " 17 1 39 8 41 2 32 99 2\n",
      "#3 197\n"
     ]
    }
   ],
   "source": [
    "# 2072\n",
    "\n",
    "num_size = int(input())\n",
    "for i in range(num_size):\n",
    "    num_list = list(map(int, input().split()))\n",
    "    odd_sum = 0\n",
    "    odd_list = [n for n in num_list if n%2]\n",
    "    print('#{} {}'.format(i+1, sum(odd_list)))"
   ]
  },
  {
   "cell_type": "code",
   "execution_count": 1,
   "metadata": {
    "collapsed": true
   },
   "outputs": [
    {
     "name": "stdout",
     "output_type": "stream",
     "text": [
      "1\n",
      "1\n",
      "41 85 72 38 80 69 65 68 96 22 49 67 51 61 63 87 66 24 80 83 71 60 64 52 90 60 49 31 23 99 94 11 25 24 51 15 13 39 67 97 19 76 12 33 99 18 92 35 74 0 95 71 39 33 39 32 37 45 57 71 95 5 71 24 86 8 51 54 74 24 75 70 33 63 29 99 58 94 52 13 35 99 46 57 71 23 17 3 94 48 77 18 83 11 83 25 59 62 2 78 86 7 94 65 80 32 39 84 60 65 72 61 58 84 8 72 12 19 47 49 49 59 71 52 34 22 21 20 92 33 80 39 74 9 28 97 100 93 29 25 4 66 79 81 98 21 91 62 82 4 59 100 34 1 51 80 92 69 77 39 38 97 51 34 35 19 22 1 67 9 90 31 82 11 51 84 78 70 74 42 100 88 53 80 57 62 32 51 48 63 92 46 4 61 31 98 69 52 88 20 68 41 48 79 97 98 56 44 73 3 63 100 87 87 41 79 64 83 63 1 21 72 24 9 75 51 25 53 77 0 52 30 96 93 32 89 70 89 55 71 79 40 10 64 80 30 19 62 67 98 42 8 32 57 27 22 1 38 89 52 74 43 8 2 65 82 20 67 22 43 22 95 16 48 25 6 75 86 96 3 85 43 69 93 4 61 53 81 43 84 20 15 34 22 35 26 28 33 67 19 79 19 45 8 13 51 0 86 68 18 47 82 3 16 80 0 18 39 22 5 26 65 70 21 92 66 65 14 6 46 46 21 32 80 35 86 6 67 29 42 71 14 77 55 3 1 14 38 71 82 41 65 12 5 77 3 67 22 59 40 81 48 63 63 25 45 32 78 83 26 96 18 99 45 56 31 30 45 47 80 1 7 81 18 1 90 15 71 22 69 44 18 31 60 16 93 13 17 44 97 98 51 46 42 22 47 72 97 24 52 55 59 25 100 28 5 14 76 32 41 97 61 32 20 0 2 8 41 52 77 35 22 98 78 92 68 29 82 33 28 16 5 9 21 13 26 39 59 69 10 42 4 13 80 34 42 100 44 32 70 15 32 8 83 10 23 73 8 53 7 21 10 52 14 82 28 24 33 94 59 4 17 73 53 85 31 100 74 74 12 72 38 34 14 22 53 0 30 95 3 52 79 41 36 81 25 24 67 48 95 44 7 96 77 90 48 92 45 78 93 95 38 71 4 83 79 64 89 0 76 81 34 66 1 13 58 4 40 5 24 17 6 65 13 13 76 3 20 8 36 12 60 37 42 53 87 10 65 42 25 47 41 33 71 69 94 24 12 92 11 71 3 82 91 90 20 95 44 76 60 34 95 49 40 89 4 45 27 9 34 82 59 2 20 68 22 29 10 1 23 19 47 16 76 47 49 90 94 10 18 55 69 14 26 59 77 73 8 21 72 1 74 76 51 94 44 24 98 71 77 59 9 12 49 38 72 22 55 35 61 16 48 41 21 67 74 92 4 7 85 34 92 39 96 42 26 1 1 4 64 33 96 62 23 67 76 26 47 32 73 82 30 14 61 21 92 40 4 2 38 76 64 8 14 3 49 71 31 38 86 98 17 15 98 32 55 69 46 61 3 44 67 50 44 76 0 45 23 25 11 82 99 11 39 50 40 21 52 17 60 44 90 44 6 16 38 3 41 43 56 26 24 0 9 90 36 50 13 42 88 87 66 32 28 73 94 52 11 35 47 9 87 37 57 15 56 38 95 6 43 23 30 84 39 88 69 5 34 81 93 86 2 77 10 28 30 97 68 14 12 88 1 100 35 73 30 2 43 11 41 58 82 6 84 71 16 18 67 41 100 92 78 57 7 35 69 56 76 13 93 26 26 38 21 96 7 88 2 60 17 54 95 26 2 0 21 87 11 96 36 83 88 31 24 24 62 14 88 84 39 22 17 84 96 1 78 91 53 9 35 75 87 100 33 80 42 7 20 50 65 81 92 14 45 96 34 6 20 86 51 4 19 70 91 13 0 42 70 43 15 47 14 96 72 41 91 11 72 7 92 12 16 51 13 86 40 50 43 55 26 7 1 70 18 71 99 49 55 94 78 40 59 20 96 34 6 28 85 42 70 62 63 32 34 97 80 49 47 50 73 85 63 20 29 0 19 91 84 58 55 33 4 68 55 12 38 49 9 13 99 4 35 26 5 42 29 98 20 95 77 36 63 41 42 45 81 40 53 60 5 55 9 13 34 6 52 28 35 33 29 21 67 57 61 21 41 95 54 50 19 81 75 67 73 77 47 40 83 16 28\n",
      "#1 71\n"
     ]
    }
   ],
   "source": [
    "# 1204\n",
    "\n",
    "test_size = int(input())\n",
    "for i in range(test_size):\n",
    "    test_num = int(input())\n",
    "    num_list = list(map(int, input().split()))\n",
    "    \n",
    "    num_sizes = {}\n",
    "    for n in set(num_list):\n",
    "        num_sizes[n] = num_list.count(n)\n",
    "    most_nums = [n for n in num_sizes if num_sizes[n] == max(num_sizes.values())]\n",
    "    print('#{} {}'.format(test_num, max(most_nums)))"
   ]
  },
  {
   "cell_type": "code",
   "execution_count": 5,
   "metadata": {},
   "outputs": [
    {
     "name": "stdout",
     "output_type": "stream",
     "text": [
      "2\n",
      "8 300 100 10 250\n",
      "#1 1800\n",
      "9 100 20 3 10\n",
      "#2 90\n"
     ]
    }
   ],
   "source": [
    "# 1284\n",
    "\n",
    "test_size = int(input())\n",
    "for i in range(test_size):\n",
    "    num_list = list(map(int, input().split()))\n",
    "    p, q, r, s, w = num_list\n",
    "    \n",
    "    a_price = p*w\n",
    "    \n",
    "    if w > r:\n",
    "        b_price = q + (w-r)*s\n",
    "    else:\n",
    "        b_price = q\n",
    "\n",
    "    print('#{} {}'.format(i+1, min(a_price, b_price)))"
   ]
  },
  {
   "cell_type": "code",
   "execution_count": 6,
   "metadata": {},
   "outputs": [
    {
     "name": "stdout",
     "output_type": "stream",
     "text": [
      "2\n",
      "2\n",
      "-100 100\n",
      "#1 100 2\n",
      "3\n",
      "-5 -1 3\n",
      "#2 1 1\n"
     ]
    }
   ],
   "source": [
    "# 1285\n",
    "\n",
    "test_size = int(input())\n",
    "for i in range(test_size):\n",
    "    player_num = int(input())\n",
    "    player_try = list(map(int, input().split()))\n",
    "    player_point = [abs(n) for n in player_try]\n",
    "    \n",
    "    print('#{} {} {}'.format(i+1, min(player_point), player_point.count(min(player_point))))"
   ]
  },
  {
   "cell_type": "code",
   "execution_count": 16,
   "metadata": {},
   "outputs": [
    {
     "name": "stdout",
     "output_type": "stream",
     "text": [
      "5\n",
      "1\n",
      "#1 10\n",
      "2\n",
      "#2 90\n",
      "11\n",
      "#3 110\n",
      "1295\n",
      "#4 6475\n",
      "1692\n",
      "#5 5076\n"
     ]
    }
   ],
   "source": [
    "# 1288\n",
    "\n",
    "test_size = int(input())\n",
    "for i in range(test_size):\n",
    "    num = int(input())\n",
    "    num_1 = num\n",
    "    num_list = []\n",
    "    check_num = set()\n",
    "    answer = 0\n",
    "    while check_num != set(range(10)):\n",
    "        for n in str(num_1):\n",
    "            check_num = check_num | {int(n)}\n",
    "        num_list.append(num_1)\n",
    "        num_1 = num_1 + num\n",
    "        answer += 1\n",
    "    print('#{} {}'.format(i+1, num_list[-1]))"
   ]
  },
  {
   "cell_type": "code",
   "execution_count": 26,
   "metadata": {},
   "outputs": [
    {
     "name": "stdout",
     "output_type": "stream",
     "text": [
      "1\n",
      "2\n",
      "1 2\n",
      "2 1\n",
      "#1 3\n"
     ]
    }
   ],
   "source": [
    "# 1940\n",
    "\n",
    "test_size = int(input())\n",
    "for i in range(test_size):\n",
    "    command_size = int(input())\n",
    "    \n",
    "    distance = 0\n",
    "    speed = 0\n",
    "    for _ in range(command_size):\n",
    "        command = list(map(int, input().split()))\n",
    "        if command[0] == 1:\n",
    "            speed += command[1]\n",
    "            distance += speed\n",
    "        elif command[0] == 2:\n",
    "            if speed > command[1]:\n",
    "                speed -= command[1]\n",
    "                distance += speed\n",
    "            else:\n",
    "                speed = 0\n",
    "                distance += speed\n",
    "        else:\n",
    "            distance += speed\n",
    "    print('#{} {}'.format(i+1, distance))"
   ]
  },
  {
   "cell_type": "code",
   "execution_count": 37,
   "metadata": {},
   "outputs": [
    {
     "name": "stdout",
     "output_type": "stream",
     "text": [
      "1\n",
      "6791400\n",
      "#1 3 2 2 3 1 \n"
     ]
    }
   ],
   "source": [
    "# 1945\n",
    "\n",
    "test_size = int(input())\n",
    "for i in range(test_size):\n",
    "    num = int(input())\n",
    "    answer = ''\n",
    "    for n in [2, 3, 5, 7, 11]:\n",
    "        temp = num\n",
    "        number = 0\n",
    "        \n",
    "        while temp % n == 0:\n",
    "            number += 1\n",
    "            temp = temp/n\n",
    "        answer += str(number)+' '\n",
    "        \n",
    "    print('#{} {}'.format(i+1, answer))"
   ]
  },
  {
   "cell_type": "code",
   "execution_count": 44,
   "metadata": {},
   "outputs": [
    {
     "name": "stdout",
     "output_type": "stream",
     "text": [
      "1\n",
      "3\n",
      "A 10\n",
      "B 7\n",
      "C 5\n",
      "#1\n",
      "AAAAAAAAAA\n",
      "BBBBBBBCCC\n",
      "CC\n"
     ]
    }
   ],
   "source": [
    "# 1946\n",
    "\n",
    "test_size = int(input())\n",
    "for i in range(test_size):\n",
    "    char_num = int(input())\n",
    "    answer = ''\n",
    "    for n in range(char_num):\n",
    "        char = input().split()\n",
    "        answer += char[0]*int(char[1])\n",
    "    \n",
    "    for k in range(int(len(answer)/10)):\n",
    "        answer = answer[:10*(k+1)+k] + '\\n' + answer[10*(k+1)+k:]\n",
    "    \n",
    "    print('#{}\\n{}'.format(i+1, answer))"
   ]
  },
  {
   "cell_type": "code",
   "execution_count": 59,
   "metadata": {},
   "outputs": [
    {
     "name": "stdout",
     "output_type": "stream",
     "text": [
      "2\n",
      "3 1 3 31\n",
      "#1 31\n",
      "5 5 8 15\n",
      "#2 103\n"
     ]
    }
   ],
   "source": [
    "# 1948\n",
    "\n",
    "m_ld = {1:31, 2:28, 3:31, 4:30, 5:31, 6:30, 7:31, 8:31, 9:30, 10:31, 11:30, 12:31}\n",
    "\n",
    "test_size = int(input())\n",
    "for i in range(test_size):\n",
    "    nums = list(map(int, input().split()))\n",
    "    if nums[0] == nums[2]:\n",
    "        date = nums[3] - nums[1] + 1\n",
    "    else:\n",
    "        months = list(range(nums[0], nums[2]+1))\n",
    "        date = (m_ld[months[0]] - nums[1]) + nums[-1] + 1\n",
    "        for m in months[1:-1]:\n",
    "            date += m_ld[m]\n",
    "    \n",
    "    print('#{} {}'.format(i+1, date))   "
   ]
  },
  {
   "cell_type": "code",
   "execution_count": 60,
   "metadata": {
    "scrolled": true
   },
   "outputs": [
    {
     "name": "stdout",
     "output_type": "stream",
     "text": [
      "1\n",
      "3\n",
      "1\n",
      "2\n",
      "3\n",
      "4\n",
      "5\n",
      "6\n",
      "7\n",
      "8\n",
      "9\n"
     ]
    }
   ],
   "source": [
    "# 1954\n",
    "\n",
    "test_size = int(input())\n",
    "for i in range(test_size):\n",
    "    num = int(input())\n",
    "    \n",
    "    for n in range(1, num**2+1):\n",
    "        print(n)"
   ]
  },
  {
   "cell_type": "code",
   "execution_count": 74,
   "metadata": {},
   "outputs": [
    {
     "name": "stdout",
     "output_type": "stream",
     "text": [
      "1\n",
      "3 5\n",
      "1 5 3\n",
      "3 6 -7 5 4\n",
      "2\n",
      "0\n",
      "[12]\n",
      "1\n",
      "[12, -14]\n",
      "#1 12\n"
     ]
    }
   ],
   "source": [
    "# 1959\n",
    "\n",
    "test_size = int(input())\n",
    "for j in range(test_size):\n",
    "    m, n = list(map(int, input().split()))\n",
    "    a_line = list(map(int, input().split()))\n",
    "    b_line = list(map(int, input().split()))\n",
    "    \n",
    "    if m > n:\n",
    "        cc_nums = []\n",
    "        for i in range(m - n + 1):\n",
    "            temp = 0\n",
    "            for idx in range(n):\n",
    "                temp += b_line[idx]*a_line[idx+i]\n",
    "            cc_nums.append(temp)\n",
    "    elif n > m:\n",
    "        cc_nums = []\n",
    "        for i in range(n - m + 1):\n",
    "            temp = 0\n",
    "            for idx in range(m):\n",
    "                temp += b_line[idx+i]*a_line[idx]\n",
    "            cc_nums.append(temp)\n",
    "    else:\n",
    "        cc_nums = []\n",
    "        temp = 0\n",
    "        for idx in range(m):\n",
    "            temp += b_line[idx]*a_line[idx]\n",
    "        cc_nums.append(temp)\n",
    "            \n",
    "    print('#{} {}'.format(j+1, max(cc_nums)))"
   ]
  },
  {
   "cell_type": "code",
   "execution_count": 77,
   "metadata": {},
   "outputs": [
    {
     "name": "stdout",
     "output_type": "stream",
     "text": [
      "1\n",
      "5\n",
      "1 4 7 8 0\n",
      "#1 0 1 4 7 8\n"
     ]
    }
   ],
   "source": [
    "# 1966\n",
    "\n",
    "test_size = int(input())\n",
    "for i in range(test_size):\n",
    "    num = int(input())\n",
    "    nums_list = list(map(int, input().split()))\n",
    "    answer = ''\n",
    "    for n in sorted(nums_list):\n",
    "        answer += ' '+str(n)\n",
    "        \n",
    "    print('#{}{}'.format(i+1, answer))"
   ]
  },
  {
   "cell_type": "code",
   "execution_count": 79,
   "metadata": {},
   "outputs": [
    {
     "name": "stdout",
     "output_type": "stream",
     "text": [
      "2\n",
      "32850\n",
      "#1\n",
      "0 3 0 2 1 3 1 0 \n",
      "160\n",
      "#2\n",
      "0 0 0 0 0 1 1 1 \n"
     ]
    }
   ],
   "source": [
    "# 1970\n",
    "\n",
    "test_size = int(input())\n",
    "for i in range(test_size):\n",
    "    num = int(input())\n",
    "    \n",
    "    answer = ''\n",
    "    \n",
    "    for m in [50000, 10000, 5000, 1000, 500, 100, 50, 10]:\n",
    "        temp = num // m\n",
    "        num = num - m*temp\n",
    "        answer += str(temp)+' '\n",
    "    \n",
    "    print('#{}\\n{}'.format(i+1, answer))"
   ]
  },
  {
   "cell_type": "code",
   "execution_count": 1,
   "metadata": {
    "collapsed": true
   },
   "outputs": [
    {
     "name": "stdout",
     "output_type": "stream",
     "text": [
      "1\n",
      "22\n",
      "\n",
      "\n",
      "\n",
      "\n",
      "d\n"
     ]
    },
    {
     "ename": "ValueError",
     "evalue": "invalid literal for int() with base 10: 'd'",
     "output_type": "error",
     "traceback": [
      "\u001b[1;31m---------------------------------------------------------------------------\u001b[0m",
      "\u001b[1;31mValueError\u001b[0m                                Traceback (most recent call last)",
      "\u001b[1;32m<ipython-input-1-f9229423a603>\u001b[0m in \u001b[0;36m<module>\u001b[1;34m\u001b[0m\n\u001b[0;32m      5\u001b[0m     \u001b[0msudoku\u001b[0m \u001b[1;33m=\u001b[0m \u001b[1;33m[\u001b[0m\u001b[1;33m]\u001b[0m\u001b[1;33m\u001b[0m\u001b[1;33m\u001b[0m\u001b[0m\n\u001b[0;32m      6\u001b[0m     \u001b[1;32mfor\u001b[0m \u001b[0m_\u001b[0m \u001b[1;32min\u001b[0m \u001b[0mrange\u001b[0m\u001b[1;33m(\u001b[0m\u001b[1;36m9\u001b[0m\u001b[1;33m)\u001b[0m\u001b[1;33m:\u001b[0m\u001b[1;33m\u001b[0m\u001b[1;33m\u001b[0m\u001b[0m\n\u001b[1;32m----> 7\u001b[1;33m         \u001b[0msudoku\u001b[0m\u001b[1;33m.\u001b[0m\u001b[0mappend\u001b[0m\u001b[1;33m(\u001b[0m\u001b[0mlist\u001b[0m\u001b[1;33m(\u001b[0m\u001b[0mmap\u001b[0m\u001b[1;33m(\u001b[0m\u001b[0mint\u001b[0m\u001b[1;33m,\u001b[0m \u001b[0minput\u001b[0m\u001b[1;33m(\u001b[0m\u001b[1;33m)\u001b[0m\u001b[1;33m.\u001b[0m\u001b[0msplit\u001b[0m\u001b[1;33m(\u001b[0m\u001b[1;33m)\u001b[0m\u001b[1;33m)\u001b[0m\u001b[1;33m)\u001b[0m\u001b[1;33m)\u001b[0m\u001b[1;33m\u001b[0m\u001b[1;33m\u001b[0m\u001b[0m\n\u001b[0m\u001b[0;32m      8\u001b[0m \u001b[1;33m\u001b[0m\u001b[0m\n\u001b[0;32m      9\u001b[0m     \u001b[0manswer\u001b[0m \u001b[1;33m=\u001b[0m \u001b[1;36m0\u001b[0m\u001b[1;33m\u001b[0m\u001b[1;33m\u001b[0m\u001b[0m\n",
      "\u001b[1;31mValueError\u001b[0m: invalid literal for int() with base 10: 'd'"
     ]
    }
   ],
   "source": [
    "# 1974\n",
    "\n",
    "test_size = int(input())\n",
    "for k in range(test_size):\n",
    "    sudoku = []\n",
    "    for _ in range(9):\n",
    "        sudoku.append(list(map(int, input().split())))\n",
    "        \n",
    "    answer = 0\n",
    "    \n",
    "    for i in range(9):\n",
    "        if set(sudoku[i]) != set(range(1,10)):\n",
    "            answer += 1\n",
    "        temp = []\n",
    "        for j in range(9):\n",
    "            temp.append(sudoku[j][i])\n",
    "        if set(temp) != set(range(1,10)):\n",
    "            answer += 1\n",
    "\n",
    "    final = [[0,1,2],[3,4,5],[6,7,8]]\n",
    "    \n",
    "    for a in range(3):\n",
    "        temp = []\n",
    "        for b in range(3):\n",
    "            for c in range(3):\n",
    "                temp.append(sudoku[final[a][b]][final[a][c]])\n",
    "        if set(temp) != set(range(1, 10)):\n",
    "            answer += 1  \n",
    "            \n",
    "    if answer:\n",
    "        print('#{} {}'.format(k+1, 0))\n",
    "    else:\n",
    "        print('#{} {}'.format(k+1, 1))"
   ]
  },
  {
   "cell_type": "code",
   "execution_count": null,
   "metadata": {},
   "outputs": [],
   "source": [
    "for T in range(int(input())):\n",
    "    M = [list(map(int, input().split()))for j in range(9)]\n",
    "    M += [[M[i][j]for i in range(9)]for j in range(9)]\n",
    "    a = 0\n",
    "    for i in range(3):\n",
    "        for j in range(3):\n",
    "            M += [sum([M[3*i+p][3*j:3*j+3]for p in range(3)], [])]\n",
    "    for i in range(27):\n",
    "        if set(M[i]) != set(range(1, 10)):\n",
    "            break\n",
    "    else:\n",
    "        a = 1\n",
    "    print(\"#%d\" % (T+1), a)"
   ]
  }
 ],
 "metadata": {
  "kernelspec": {
   "display_name": "Python 3",
   "language": "python",
   "name": "python3"
  },
  "language_info": {
   "codemirror_mode": {
    "name": "ipython",
    "version": 3
   },
   "file_extension": ".py",
   "mimetype": "text/x-python",
   "name": "python",
   "nbconvert_exporter": "python",
   "pygments_lexer": "ipython3",
   "version": "3.7.3"
  }
 },
 "nbformat": 4,
 "nbformat_minor": 2
}
